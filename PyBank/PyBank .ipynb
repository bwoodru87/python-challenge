{
 "cells": [
  {
   "cell_type": "code",
   "execution_count": 39,
   "metadata": {},
   "outputs": [
    {
     "name": "stdout",
     "output_type": "stream",
     "text": [
      "Financial Analysis\n",
      "-------------------------------\n",
      "Total Months: 86\n",
      "Total Amount: 38382578\n",
      "Average Change: $-2315.12\n",
      "Greatest Increase: Feb-2012 $1926159\n",
      "Greatest Decrease: Sep-2013 $-2196167\n"
     ]
    }
   ],
   "source": [
    "# Module for reading CSV files\n",
    "import csv\n",
    "\n",
    "print(\"Financial Analysis\")\n",
    "print(\"-------------------------------\")\n",
    "\n",
    "csvpath = \"/Users/bryanwood/Desktop/RICH201901DATA3/03-Python/Homework/Instructions/PyBank/Resources/budget_data.csv\"\n",
    "\n",
    "myData = []\n",
    "\n",
    "with open(csvpath, newline='') as csvfile:\n",
    "\n",
    "    csvreader = csv.reader(csvfile, delimiter=',')\n",
    "    csv_header = next(csvreader)\n",
    "    myData.append(csv_header)\n",
    "    \n",
    "    for row in csvreader:\n",
    "        myData.append(row)\n",
    "\n",
    "    month_counter = 0\n",
    "    total_amount = 0\n",
    "   \n",
    "    \n",
    "    for row in myData[1:]:\n",
    "        month_counter += 1\n",
    "        total_amount += int(row[1])\n",
    "        \n",
    "    #to make a list of only monthly amounts\n",
    "    month_total = [int(j) for i, j in myData[1:]]\n",
    "    \n",
    "    month_change = [x - y for x, y in zip(month_total[1:],month_total)]\n",
    "    \n",
    "    month_change_avg = round(sum(month_change) / len(month_change),2)\n",
    "    \n",
    "    \n",
    "    month_list = [i for i, j in myData[1:]]\n",
    "    \n",
    "    month_change_list = [i for i in zip(month_list[1:],month_change)]\n",
    "    \n",
    "    for row in month_change_list:\n",
    "        if row[1] == max(month_change):\n",
    "            mxmonth = row[0]\n",
    "            mxamount = row[1]\n",
    "        if row[1] == min(month_change):\n",
    "            mnmonth = row[0]\n",
    "            mnamount = row[1]\n",
    "            \n",
    "    print(f\"Total Months: {month_counter}\")\n",
    "    print(f\"Total Amount: {total_amount}\")\n",
    "    print(f\"Average Change: ${month_change_avg}\")\n",
    "    print(f\"Greatest Increase: {mxmonth} ${mxamount}\")\n",
    "    print(f\"Greatest Decrease: {mnmonth} ${mnamount}\")\n",
    "    \n",
    "    \n",
    "\n",
    "    \n",
    "    \n",
    "        \n",
    "    \n",
    "\n",
    "        \n",
    "        \n",
    "\n",
    "    \n",
    "        \n",
    "        \n",
    "        \n",
    "\n",
    "    "
   ]
  },
  {
   "cell_type": "code",
   "execution_count": null,
   "metadata": {},
   "outputs": [],
   "source": []
  }
 ],
 "metadata": {
  "kernelspec": {
   "display_name": "Python 3",
   "language": "python",
   "name": "python3"
  },
  "language_info": {
   "codemirror_mode": {
    "name": "ipython",
    "version": 3
   },
   "file_extension": ".py",
   "mimetype": "text/x-python",
   "name": "python",
   "nbconvert_exporter": "python",
   "pygments_lexer": "ipython3",
   "version": "3.7.0"
  }
 },
 "nbformat": 4,
 "nbformat_minor": 2
}
