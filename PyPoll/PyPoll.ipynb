{
 "cells": [
  {
   "cell_type": "code",
   "execution_count": 2,
   "metadata": {},
   "outputs": [],
   "source": [
    "import os \n",
    "import csv"
   ]
  },
  {
   "cell_type": "code",
   "execution_count": 5,
   "metadata": {},
   "outputs": [
    {
     "name": "stdout",
     "output_type": "stream",
     "text": [
      "Election Results\n",
      "-----------------\n",
      "Total Votes: 3521001\n",
      "---------------------------\n",
      "Khan:63.00001050837531%(2218231)\n",
      "Correy:19.999994319797125%(704200)\n",
      "Li:13.999996023857989%(492940)\n",
      "O'Tooley:2.999999147969569%(105630)\n",
      "---------------------------\n",
      "Winner: Khan\n",
      "---------------------------\n"
     ]
    }
   ],
   "source": [
    "csvpath = \"/Users/bryanwood/Desktop/pythonchallenge/python-challenge/election_data.csv\"\n",
    "\n",
    "myData = []\n",
    "print(\"Election Results\")\n",
    "print(\"-----------------\")\n",
    "\n",
    "with open(csvpath, newline='') as csvfile:\n",
    "\n",
    "    csvreader = csv.reader(csvfile, delimiter=',')\n",
    "    csv_header = next(csvreader)\n",
    "    myData.append(csv_header)\n",
    "    for row in csvreader:\n",
    "        myData.append(row)\n",
    "        \n",
    "    total_votes = 0\n",
    "    \n",
    "    for row in myData[1:]:\n",
    "        total_votes += 1\n",
    "        \n",
    "        \n",
    "    Candidates = {}\n",
    "    \n",
    "    for row in myData[1:]:\n",
    "        if row[2] not in Candidates:\n",
    "            Candidates[row[2]]= {}\n",
    "            Candidates[row[2]][\"Votes\"] = 1\n",
    "            Candidates[row[2]][\"Percent\"] = (Candidates[row[2]][\"Votes\"] / total_votes)\n",
    "        else:\n",
    "            Candidates[row[2]][\"Votes\"] += 1\n",
    "            Candidates[row[2]][\"Percent\"] = (Candidates[row[2]][\"Votes\"] / total_votes)\n",
    "    \n",
    "    most_votes = 0\n",
    "    winner_name = \"\"\n",
    "    \n",
    "    for names in Candidates:\n",
    "        if Candidates[names][\"Votes\"] > most_votes:\n",
    "            most_votes = Candidates[names][\"Votes\"]\n",
    "            winner_name = names\n",
    "\n",
    "    print(f\"Total Votes: {total_votes}\")\n",
    "    print(\"---------------------------\")\n",
    "    for key in Candidates:\n",
    "        print(key + \":\" + str((Candidates[key][\"Percent\"]) * 100) + \"%\" + \"(\" + str(Candidates[key][\"Votes\"]) + \")\")\n",
    "    print(\"---------------------------\")\n",
    "    print(f\"Winner: {winner_name}\")\n",
    "    print(\"---------------------------\")\n",
    "                                                                        \n",
    "    \n",
    "    \n",
    "\n",
    "          \n"
   ]
  },
  {
   "cell_type": "code",
   "execution_count": null,
   "metadata": {},
   "outputs": [],
   "source": []
  }
 ],
 "metadata": {
  "kernelspec": {
   "display_name": "Python 3",
   "language": "python",
   "name": "python3"
  },
  "language_info": {
   "codemirror_mode": {
    "name": "ipython",
    "version": 3
   },
   "file_extension": ".py",
   "mimetype": "text/x-python",
   "name": "python",
   "nbconvert_exporter": "python",
   "pygments_lexer": "ipython3",
   "version": "3.7.0"
  }
 },
 "nbformat": 4,
 "nbformat_minor": 2
}
